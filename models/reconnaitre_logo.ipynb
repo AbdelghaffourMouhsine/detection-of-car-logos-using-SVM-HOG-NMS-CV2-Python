{
 "cells": [
  {
   "cell_type": "code",
   "execution_count": 1,
   "id": "f3cdfd23",
   "metadata": {},
   "outputs": [],
   "source": [
    "import cv2\n",
    "import os\n",
    "import numpy as np\n",
    "from sklearn.svm import SVC\n",
    "from sklearn.model_selection import train_test_split\n",
    "from sklearn.metrics import classification_report, accuracy_score\n",
    "from skimage.feature import hog\n",
    "from sklearn.model_selection import GridSearchCV"
   ]
  },
  {
   "cell_type": "code",
   "execution_count": 3,
   "id": "e7bbe839",
   "metadata": {},
   "outputs": [
    {
     "name": "stderr",
     "output_type": "stream",
     "text": [
      "[========================================================================] 100%\n",
      "[========================================================================] 100%\n",
      "[========================================================================] 100%\n"
     ]
    }
   ],
   "source": [
    "from simple_image_download import simple_image_download as simp \n",
    "\n",
    "response = simp.simple_image_download\n",
    "keywords = [\"mercedes logo\",\"volkswagen logo\",\"toyota logo\"]\n",
    "\n",
    "for kw in keywords:\n",
    "    response().download(kw , 200)"
   ]
  },
  {
   "cell_type": "code",
   "execution_count": 10,
   "id": "c0ff182d",
   "metadata": {},
   "outputs": [],
   "source": [
    "# 1. Charger les images\n",
    "image_dir_1 = \"./simple_images/mercedes_logo\"\n",
    "image_dir_2 = \"./simple_images/volkswagen_logo\"\n",
    "image_dir_3 = \"./simple_images/toyota_logo\"\n",
    "\n",
    "\n",
    "images = []\n",
    "labels = []\n",
    "\n",
    "def read_data(images_dir , category ):\n",
    "    global images,labels\n",
    "    for filename in os.listdir(images_dir):\n",
    "        img = cv2.imread(os.path.join(images_dir, filename))\n",
    "        label = category  # label est le nom de la marque de la voiture\n",
    "        images.append(img)\n",
    "        labels.append(label)\n",
    "\n",
    "read_data(image_dir_1 , \"mercedes\" )\n",
    "read_data(image_dir_2 , \"volkswagen\" )\n",
    "read_data(image_dir_3 , \"toyota\" )\n",
    "        \n"
   ]
  },
  {
   "cell_type": "code",
   "execution_count": 11,
   "id": "5103f724",
   "metadata": {},
   "outputs": [],
   "source": [
    "\n",
    "# 2. Prétraitement des images\n",
    "gray_images = []\n",
    "for img in images:\n",
    "    resized_img = cv2.resize(img, (200,200))\n",
    "    gray = cv2.cvtColor(resized_img, cv2.COLOR_BGR2GRAY)\n",
    "    gray_images.append(gray)\n"
   ]
  },
  {
   "cell_type": "code",
   "execution_count": 12,
   "id": "4cd7aaf4",
   "metadata": {},
   "outputs": [],
   "source": [
    "# 3. Extraction de fonctionnalités HOG\n",
    "features = []\n",
    "for img in gray_images:\n",
    "    fd, hog_image = hog(img, orientations=9, pixels_per_cell=(8, 8),\n",
    "                        cells_per_block=(2, 2), visualize=True, channel_axis=None)\n",
    "    features.append(fd)"
   ]
  },
  {
   "cell_type": "code",
   "execution_count": 13,
   "id": "c17590aa",
   "metadata": {},
   "outputs": [
    {
     "name": "stdout",
     "output_type": "stream",
     "text": [
      "516\n",
      "(20736,)\n"
     ]
    }
   ],
   "source": [
    "print(len(features))\n",
    "print(features[0].shape)"
   ]
  },
  {
   "cell_type": "code",
   "execution_count": 14,
   "id": "e8da986a",
   "metadata": {},
   "outputs": [],
   "source": [
    "# 4. Construction des vecteurs de caractéristiques\n",
    "X = np.vstack(features)\n",
    "y = np.array(labels)"
   ]
  },
  {
   "cell_type": "code",
   "execution_count": 15,
   "id": "ce0f9fd1",
   "metadata": {},
   "outputs": [
    {
     "data": {
      "text/plain": [
       "(516, 20736)"
      ]
     },
     "execution_count": 15,
     "metadata": {},
     "output_type": "execute_result"
    }
   ],
   "source": [
    "X.shape"
   ]
  },
  {
   "cell_type": "code",
   "execution_count": 16,
   "id": "8d398146",
   "metadata": {},
   "outputs": [],
   "source": [
    "# Entrainement du modèle ( classification des logos )\n",
    "X_train, X_test, y_train, y_test = train_test_split(X, y, test_size=0.2, random_state=42)\n"
   ]
  },
  {
   "cell_type": "code",
   "execution_count": 18,
   "id": "df45aaa8",
   "metadata": {},
   "outputs": [
    {
     "data": {
      "text/plain": [
       "GridSearchCV(estimator=SVC(),\n",
       "             param_grid=[{'C': [0.1, 1, 10, 100],\n",
       "                          'gamma': [0.01, 0.001, 0.002]}])"
      ]
     },
     "execution_count": 18,
     "metadata": {},
     "output_type": "execute_result"
    }
   ],
   "source": [
    "svm_model = SVC()\n",
    "\n",
    "parameters = [{'gamma':[0.01, 0.001,0.002],'C':[0.1,1,10,100]}]\n",
    "\n",
    "grid_search = GridSearchCV(svm_model,parameters)\n",
    "\n",
    "grid_search.fit(X_train, y_train)"
   ]
  },
  {
   "cell_type": "code",
   "execution_count": 19,
   "id": "d0b1dd37",
   "metadata": {},
   "outputs": [
    {
     "name": "stdout",
     "output_type": "stream",
     "text": [
      "Meilleurs hyperparamètres : {'C': 100, 'gamma': 0.001}\n",
      "Score de validation croisée : 0.9199235968263297\n"
     ]
    }
   ],
   "source": [
    "# Affichage des meilleurs hyperparamètres et du score correspondant\n",
    "print(f\"Meilleurs hyperparamètres : {grid_search.best_params_}\")\n",
    "print(f\"Score de validation croisée : {grid_search.best_score_}\")"
   ]
  },
  {
   "cell_type": "code",
   "execution_count": 20,
   "id": "aa4424ff",
   "metadata": {},
   "outputs": [],
   "source": [
    "best_estimator = grid_search.best_estimator_"
   ]
  },
  {
   "cell_type": "code",
   "execution_count": 21,
   "id": "4be5fc58",
   "metadata": {},
   "outputs": [
    {
     "name": "stdout",
     "output_type": "stream",
     "text": [
      "              precision    recall  f1-score   support\n",
      "\n",
      "    mercedes       0.90      1.00      0.95        38\n",
      "      toyota       0.96      0.93      0.95        28\n",
      "  volkswagen       0.94      0.87      0.90        38\n",
      "\n",
      "    accuracy                           0.93       104\n",
      "   macro avg       0.94      0.93      0.93       104\n",
      "weighted avg       0.93      0.93      0.93       104\n",
      "\n",
      "Accuracy: 0.9326923076923077\n"
     ]
    }
   ],
   "source": [
    "y_pred = best_estimator.predict(X_test)\n",
    "\n",
    "print(classification_report(y_test, y_pred))\n",
    "print(\"Accuracy:\", accuracy_score(y_test, y_pred))"
   ]
  },
  {
   "cell_type": "code",
   "execution_count": 23,
   "id": "f13c2578",
   "metadata": {},
   "outputs": [
    {
     "data": {
      "text/plain": [
       "['model_reconnaitre_logo.joblib']"
      ]
     },
     "execution_count": 23,
     "metadata": {},
     "output_type": "execute_result"
    }
   ],
   "source": [
    "import joblib\n",
    "\n",
    "joblib.dump(best_estimator,\"model_reconnaitre_logo.joblib\")"
   ]
  },
  {
   "cell_type": "code",
   "execution_count": null,
   "id": "14b5c973",
   "metadata": {
    "scrolled": true
   },
   "outputs": [],
   "source": []
  },
  {
   "cell_type": "code",
   "execution_count": 24,
   "id": "8199a144",
   "metadata": {},
   "outputs": [
    {
     "ename": "error",
     "evalue": "OpenCV(4.7.0) D:\\a\\opencv-python\\opencv-python\\opencv\\modules\\imgproc\\src\\resize.cpp:4062: error: (-215:Assertion failed) !ssize.empty() in function 'cv::resize'\n",
     "output_type": "error",
     "traceback": [
      "\u001b[1;31m---------------------------------------------------------------------------\u001b[0m",
      "\u001b[1;31merror\u001b[0m                                     Traceback (most recent call last)",
      "Input \u001b[1;32mIn [24]\u001b[0m, in \u001b[0;36m<cell line: 8>\u001b[1;34m()\u001b[0m\n\u001b[0;32m      4\u001b[0m dir_test_1 \u001b[38;5;241m=\u001b[39m \u001b[38;5;124m\"\u001b[39m\u001b[38;5;124mC:/Users/Hp/Desktop/fst ML/projet/archive/Car_Brand_Logos/Test/toyota_/toyota10.jpg\u001b[39m\u001b[38;5;124m\"\u001b[39m\n\u001b[0;32m      6\u001b[0m img_test_1 \u001b[38;5;241m=\u001b[39m cv2\u001b[38;5;241m.\u001b[39mimread(dir_test_1)\n\u001b[1;32m----> 8\u001b[0m resized_img_test_1 \u001b[38;5;241m=\u001b[39m \u001b[43mcv2\u001b[49m\u001b[38;5;241;43m.\u001b[39;49m\u001b[43mresize\u001b[49m\u001b[43m(\u001b[49m\u001b[43mimg_test_1\u001b[49m\u001b[43m,\u001b[49m\u001b[43m \u001b[49m\u001b[43m(\u001b[49m\u001b[38;5;241;43m200\u001b[39;49m\u001b[43m,\u001b[49m\u001b[43m \u001b[49m\u001b[38;5;241;43m200\u001b[39;49m\u001b[43m)\u001b[49m\u001b[43m)\u001b[49m\n\u001b[0;32m      9\u001b[0m gray_test_1 \u001b[38;5;241m=\u001b[39m cv2\u001b[38;5;241m.\u001b[39mcvtColor(resized_img_test_1, cv2\u001b[38;5;241m.\u001b[39mCOLOR_BGR2GRAY)\n\u001b[0;32m     11\u001b[0m fd_test_1, hog_image \u001b[38;5;241m=\u001b[39m hog(gray_test_1, orientations\u001b[38;5;241m=\u001b[39m\u001b[38;5;241m9\u001b[39m, pixels_per_cell\u001b[38;5;241m=\u001b[39m(\u001b[38;5;241m8\u001b[39m, \u001b[38;5;241m8\u001b[39m),\n\u001b[0;32m     12\u001b[0m                         cells_per_block\u001b[38;5;241m=\u001b[39m(\u001b[38;5;241m2\u001b[39m, \u001b[38;5;241m2\u001b[39m), visualize\u001b[38;5;241m=\u001b[39m\u001b[38;5;28;01mTrue\u001b[39;00m, multichannel\u001b[38;5;241m=\u001b[39m\u001b[38;5;28;01mFalse\u001b[39;00m)\n",
      "\u001b[1;31merror\u001b[0m: OpenCV(4.7.0) D:\\a\\opencv-python\\opencv-python\\opencv\\modules\\imgproc\\src\\resize.cpp:4062: error: (-215:Assertion failed) !ssize.empty() in function 'cv::resize'\n"
     ]
    }
   ],
   "source": [
    "dir_test_1 = \"C:/Users/Hp/Desktop/fst ML/projet/archive/Car_Brand_Logos/Test/mercedes/mrc93.jpg\"\n",
    "dir_test_1 = \"C:/Users/Hp/Desktop/fst ML/projet/archive/Car_Brand_Logos/Test/hyundai/hnd10.jpg\"\n",
    "dir_test_1 = \"C:/Users/Hp/Desktop/fst ML/projet/archive/Car_Brand_Logos/Test/mazda/mazda10.jpg\"\n",
    "dir_test_1 = \"C:/Users/Hp/Desktop/fst ML/projet/archive/Car_Brand_Logos/Test/toyota_/toyota10.jpg\"\n",
    "\n",
    "img_test_1 = cv2.imread(dir_test_1)\n",
    "\n",
    "resized_img_test_1 = cv2.resize(img_test_1, (200, 200))\n",
    "gray_test_1 = cv2.cvtColor(resized_img_test_1, cv2.COLOR_BGR2GRAY)\n",
    "\n",
    "fd_test_1, hog_image = hog(gray_test_1, orientations=9, pixels_per_cell=(8, 8),\n",
    "                        cells_per_block=(2, 2), visualize=True, multichannel=False)\n",
    "\n",
    "fd_test_1 = fd_test_1.reshape(1,-1)\n",
    "print(fd_test_1.shape)\n",
    "\n",
    "import matplotlib.pyplot as plt\n",
    "from skimage import exposure\n",
    "\n",
    "fig, (ax1, ax2) = plt.subplots(1, 2, figsize=(8, 4), sharex=True, sharey=True)\n",
    "ax1.imshow(resized_img_test_1, cmap=plt.cm.gray)\n",
    "ax1.set_title('Image originale')\n",
    "# Réajuster le contraste pour l'affichage de l'image HOG\n",
    "hog_image_rescaled = exposure.rescale_intensity(hog_image, in_range=(0, 10))\n",
    "ax2.imshow(hog_image_rescaled, cmap=plt.cm.gray)\n",
    "ax2.set_title('Descripteurs HOG')\n",
    "plt.show()\n",
    "\n",
    "y_pred_1 = best_estimator.predict(fd_test_1)\n",
    "print(y_pred_1)\n"
   ]
  },
  {
   "cell_type": "code",
   "execution_count": null,
   "id": "3171c274",
   "metadata": {},
   "outputs": [],
   "source": []
  },
  {
   "cell_type": "code",
   "execution_count": null,
   "id": "c0b5dae1",
   "metadata": {},
   "outputs": [],
   "source": []
  }
 ],
 "metadata": {
  "kernelspec": {
   "display_name": "Python 3 (ipykernel)",
   "language": "python",
   "name": "python3"
  },
  "language_info": {
   "codemirror_mode": {
    "name": "ipython",
    "version": 3
   },
   "file_extension": ".py",
   "mimetype": "text/x-python",
   "name": "python",
   "nbconvert_exporter": "python",
   "pygments_lexer": "ipython3",
   "version": "3.9.12"
  },
  "varInspector": {
   "cols": {
    "lenName": 16,
    "lenType": 16,
    "lenVar": 40
   },
   "kernels_config": {
    "python": {
     "delete_cmd_postfix": "",
     "delete_cmd_prefix": "del ",
     "library": "var_list.py",
     "varRefreshCmd": "print(var_dic_list())"
    },
    "r": {
     "delete_cmd_postfix": ") ",
     "delete_cmd_prefix": "rm(",
     "library": "var_list.r",
     "varRefreshCmd": "cat(var_dic_list()) "
    }
   },
   "types_to_exclude": [
    "module",
    "function",
    "builtin_function_or_method",
    "instance",
    "_Feature"
   ],
   "window_display": false
  }
 },
 "nbformat": 4,
 "nbformat_minor": 5
}
